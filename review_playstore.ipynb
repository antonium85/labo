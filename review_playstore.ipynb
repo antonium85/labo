{
 "cells": [
  {
   "cell_type": "code",
   "execution_count": 9,
   "id": "6577e9e7",
   "metadata": {},
   "outputs": [
    {
     "name": "stdout",
     "output_type": "stream",
     "text": [
      "Requirement already satisfied: google-play-scraper in /opt/anaconda3/lib/python3.9/site-packages (1.2.3)\n",
      "Note: you may need to restart the kernel to use updated packages.\n"
     ]
    }
   ],
   "source": [
    "pip install google-play-scraper"
   ]
  },
  {
   "cell_type": "code",
   "execution_count": 10,
   "id": "025db396",
   "metadata": {},
   "outputs": [],
   "source": [
    "from google_play_scraper import app\n",
    "\n",
    "import pandas as pd\n",
    "\n",
    "import numpy as np"
   ]
  },
  {
   "cell_type": "code",
   "execution_count": 13,
   "id": "ff1b425f",
   "metadata": {},
   "outputs": [],
   "source": [
    "#FR Market\n",
    "\n",
    "from google_play_scraper import Sort, reviews_all\n",
    "\n",
    "\n",
    "fr_reviews = reviews_all(\n",
    "    'com.elevatelabs.geonosis',\n",
    "    sleep_milliseconds=0, # defaults to 0\n",
    "    lang='fr', # defaults to 'en'\n",
    "    country='fr', # defaults to 'us'\n",
    "    sort=Sort.NEWEST, # defaults to Sort.MOST_RELEVANT\n",
    ")"
   ]
  },
  {
   "cell_type": "code",
   "execution_count": 15,
   "id": "9ab18a68",
   "metadata": {},
   "outputs": [
    {
     "data": {
      "text/html": [
       "<div>\n",
       "<style scoped>\n",
       "    .dataframe tbody tr th:only-of-type {\n",
       "        vertical-align: middle;\n",
       "    }\n",
       "\n",
       "    .dataframe tbody tr th {\n",
       "        vertical-align: top;\n",
       "    }\n",
       "\n",
       "    .dataframe thead th {\n",
       "        text-align: right;\n",
       "    }\n",
       "</style>\n",
       "<table border=\"1\" class=\"dataframe\">\n",
       "  <thead>\n",
       "    <tr style=\"text-align: right;\">\n",
       "      <th></th>\n",
       "      <th>reviewId</th>\n",
       "      <th>userName</th>\n",
       "      <th>userImage</th>\n",
       "      <th>content</th>\n",
       "      <th>score</th>\n",
       "      <th>thumbsUpCount</th>\n",
       "      <th>reviewCreatedVersion</th>\n",
       "      <th>at</th>\n",
       "      <th>replyContent</th>\n",
       "      <th>repliedAt</th>\n",
       "    </tr>\n",
       "  </thead>\n",
       "  <tbody>\n",
       "    <tr>\n",
       "      <th>0</th>\n",
       "      <td>5d539751-d543-4e8d-b143-a75682bded9a</td>\n",
       "      <td>Un utilisateur de Google</td>\n",
       "      <td>https://play-lh.googleusercontent.com/EGemoI2N...</td>\n",
       "      <td>$$$$$$$$ again....</td>\n",
       "      <td>1</td>\n",
       "      <td>0</td>\n",
       "      <td>None</td>\n",
       "      <td>2023-02-22 02:02:07</td>\n",
       "      <td>None</td>\n",
       "      <td>NaT</td>\n",
       "    </tr>\n",
       "    <tr>\n",
       "      <th>1</th>\n",
       "      <td>a3070caf-335f-4732-b964-c07781eb26e2</td>\n",
       "      <td>Lucile Pcrd</td>\n",
       "      <td>https://play-lh.googleusercontent.com/a-/ACB-R...</td>\n",
       "      <td>I've been using this app for not so much but I...</td>\n",
       "      <td>5</td>\n",
       "      <td>0</td>\n",
       "      <td>1.68.0</td>\n",
       "      <td>2023-02-08 23:10:51</td>\n",
       "      <td>None</td>\n",
       "      <td>NaT</td>\n",
       "    </tr>\n",
       "    <tr>\n",
       "      <th>2</th>\n",
       "      <td>12364d2e-b88e-4f1c-bcd9-2e7ea0aca0f8</td>\n",
       "      <td>Frederic Wahoue</td>\n",
       "      <td>https://play-lh.googleusercontent.com/a-/ACB-R...</td>\n",
       "      <td>Parfait</td>\n",
       "      <td>5</td>\n",
       "      <td>0</td>\n",
       "      <td>1.68.0</td>\n",
       "      <td>2023-02-08 08:19:23</td>\n",
       "      <td>None</td>\n",
       "      <td>NaT</td>\n",
       "    </tr>\n",
       "    <tr>\n",
       "      <th>3</th>\n",
       "      <td>75b09ea4-13f5-428a-a60d-51e141620fda</td>\n",
       "      <td>Marie-Claude Piche</td>\n",
       "      <td>https://play-lh.googleusercontent.com/a-/ACB-R...</td>\n",
       "      <td>This app is the best !</td>\n",
       "      <td>5</td>\n",
       "      <td>0</td>\n",
       "      <td>1.68.0</td>\n",
       "      <td>2023-02-01 00:38:33</td>\n",
       "      <td>None</td>\n",
       "      <td>NaT</td>\n",
       "    </tr>\n",
       "    <tr>\n",
       "      <th>4</th>\n",
       "      <td>5627746e-a2c5-4b5c-a2e9-c42a26f93a65</td>\n",
       "      <td>Xavier “Wanderboy” Albert</td>\n",
       "      <td>https://play-lh.googleusercontent.com/a-/ACB-R...</td>\n",
       "      <td>La meilleure application de méditation (en ang...</td>\n",
       "      <td>5</td>\n",
       "      <td>0</td>\n",
       "      <td>1.68.0</td>\n",
       "      <td>2023-01-23 16:24:50</td>\n",
       "      <td>None</td>\n",
       "      <td>NaT</td>\n",
       "    </tr>\n",
       "  </tbody>\n",
       "</table>\n",
       "</div>"
      ],
      "text/plain": [
       "                               reviewId                   userName  \\\n",
       "0  5d539751-d543-4e8d-b143-a75682bded9a   Un utilisateur de Google   \n",
       "1  a3070caf-335f-4732-b964-c07781eb26e2                Lucile Pcrd   \n",
       "2  12364d2e-b88e-4f1c-bcd9-2e7ea0aca0f8            Frederic Wahoue   \n",
       "3  75b09ea4-13f5-428a-a60d-51e141620fda         Marie-Claude Piche   \n",
       "4  5627746e-a2c5-4b5c-a2e9-c42a26f93a65  Xavier “Wanderboy” Albert   \n",
       "\n",
       "                                           userImage  \\\n",
       "0  https://play-lh.googleusercontent.com/EGemoI2N...   \n",
       "1  https://play-lh.googleusercontent.com/a-/ACB-R...   \n",
       "2  https://play-lh.googleusercontent.com/a-/ACB-R...   \n",
       "3  https://play-lh.googleusercontent.com/a-/ACB-R...   \n",
       "4  https://play-lh.googleusercontent.com/a-/ACB-R...   \n",
       "\n",
       "                                             content  score  thumbsUpCount  \\\n",
       "0                                 $$$$$$$$ again....      1              0   \n",
       "1  I've been using this app for not so much but I...      5              0   \n",
       "2                                            Parfait      5              0   \n",
       "3                             This app is the best !      5              0   \n",
       "4  La meilleure application de méditation (en ang...      5              0   \n",
       "\n",
       "  reviewCreatedVersion                  at replyContent repliedAt  \n",
       "0                 None 2023-02-22 02:02:07         None       NaT  \n",
       "1               1.68.0 2023-02-08 23:10:51         None       NaT  \n",
       "2               1.68.0 2023-02-08 08:19:23         None       NaT  \n",
       "3               1.68.0 2023-02-01 00:38:33         None       NaT  \n",
       "4               1.68.0 2023-01-23 16:24:50         None       NaT  "
      ]
     },
     "execution_count": 15,
     "metadata": {},
     "output_type": "execute_result"
    }
   ],
   "source": [
    "df_busu = pd.DataFrame(np.array(fr_reviews),columns=['review'])\n",
    "\n",
    "\n",
    "df_busu = df_busu.join(pd.DataFrame(df_busu.pop('review').tolist()))\n",
    "\n",
    "df_busu.head()"
   ]
  },
  {
   "cell_type": "code",
   "execution_count": 16,
   "id": "80e8ec3a",
   "metadata": {},
   "outputs": [],
   "source": [
    "df_busu.to_csv('balance_review.csv')"
   ]
  }
 ],
 "metadata": {
  "kernelspec": {
   "display_name": "Python 3 (ipykernel)",
   "language": "python",
   "name": "python3"
  },
  "language_info": {
   "codemirror_mode": {
    "name": "ipython",
    "version": 3
   },
   "file_extension": ".py",
   "mimetype": "text/x-python",
   "name": "python",
   "nbconvert_exporter": "python",
   "pygments_lexer": "ipython3",
   "version": "3.9.13"
  }
 },
 "nbformat": 4,
 "nbformat_minor": 5
}
